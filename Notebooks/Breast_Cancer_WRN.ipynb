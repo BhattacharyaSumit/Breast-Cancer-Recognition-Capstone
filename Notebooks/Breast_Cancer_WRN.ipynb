{
  "nbformat": 4,
  "nbformat_minor": 0,
  "metadata": {
    "colab": {
      "name": "Breast Cancer - WRN.ipynb",
      "version": "0.3.2",
      "provenance": [],
      "collapsed_sections": []
    },
    "kernelspec": {
      "name": "python3",
      "display_name": "Python 3"
    },
    "accelerator": "GPU"
  },
  "cells": [
    {
      "cell_type": "code",
      "metadata": {
        "id": "Ue6a33nM6M3B",
        "colab_type": "code",
        "colab": {}
      },
      "source": [
        "import json\n",
        "!mkdir -p ~/.kaggle\n",
        "!cp kaggle.json ~/.kaggle/\n",
        "!chmod 600 ~/.kaggle/kaggle.json\n",
        "!ls ~/.kaggle"
      ],
      "execution_count": 0,
      "outputs": []
    },
    {
      "cell_type": "code",
      "metadata": {
        "id": "Rh1ure6v68Pl",
        "colab_type": "code",
        "colab": {}
      },
      "source": [
        "!pip install -q kaggle"
      ],
      "execution_count": 0,
      "outputs": []
    },
    {
      "cell_type": "code",
      "metadata": {
        "id": "W_02vv9H6_H7",
        "colab_type": "code",
        "colab": {}
      },
      "source": [
        "!kaggle datasets download --force paultimothymooney/breast-histopathology-images"
      ],
      "execution_count": 0,
      "outputs": []
    },
    {
      "cell_type": "code",
      "metadata": {
        "id": "SrcEgGJZ7PGf",
        "colab_type": "code",
        "colab": {}
      },
      "source": [
        "!mkdir dataset"
      ],
      "execution_count": 0,
      "outputs": []
    },
    {
      "cell_type": "code",
      "metadata": {
        "id": "5lIrYP-q7U33",
        "colab_type": "code",
        "colab": {}
      },
      "source": [
        "!unzip breast-histopathology-images.zip"
      ],
      "execution_count": 0,
      "outputs": []
    },
    {
      "cell_type": "code",
      "metadata": {
        "id": "UkA5k7b-7aub",
        "colab_type": "code",
        "colab": {}
      },
      "source": [
        "cd /content/dataset"
      ],
      "execution_count": 0,
      "outputs": []
    },
    {
      "cell_type": "code",
      "metadata": {
        "id": "ctBjn4N27dYB",
        "colab_type": "code",
        "colab": {}
      },
      "source": [
        "!unzip /content/IDC_regular_ps50_idx5.zip"
      ],
      "execution_count": 0,
      "outputs": []
    },
    {
      "cell_type": "code",
      "metadata": {
        "id": "B7WmYmn49o_Y",
        "colab_type": "code",
        "colab": {}
      },
      "source": [
        "cd /content"
      ],
      "execution_count": 0,
      "outputs": []
    },
    {
      "cell_type": "code",
      "metadata": {
        "id": "gOBkdO_I9qoZ",
        "colab_type": "code",
        "colab": {}
      },
      "source": [
        "!mkdir clean_dir"
      ],
      "execution_count": 0,
      "outputs": []
    },
    {
      "cell_type": "code",
      "metadata": {
        "id": "h6SXQNqC9xA2",
        "colab_type": "code",
        "colab": {}
      },
      "source": [
        "import os"
      ],
      "execution_count": 0,
      "outputs": []
    },
    {
      "cell_type": "code",
      "metadata": {
        "id": "G3JBpnwe9084",
        "colab_type": "code",
        "colab": {}
      },
      "source": [
        "ORIG_INPUT_DATASET = \"/content/dataset\"\n",
        "BASE_PATH = \"/content/clean_dir\"\n",
        " \n",
        "TRAIN_PATH = os.path.sep.join([BASE_PATH, \"training\"])\n",
        "VAL_PATH = os.path.sep.join([BASE_PATH, \"validation\"])\n",
        "TEST_PATH = os.path.sep.join([BASE_PATH, \"testing\"])\n",
        " \n",
        "TRAIN_SPLIT = 0.8\n",
        "VAL_SPLIT = 0.1"
      ],
      "execution_count": 0,
      "outputs": []
    },
    {
      "cell_type": "code",
      "metadata": {
        "id": "Ib6pFFkF92Y_",
        "colab_type": "code",
        "colab": {}
      },
      "source": [
        "from imutils import paths\n",
        "import random\n",
        "import shutil"
      ],
      "execution_count": 0,
      "outputs": []
    },
    {
      "cell_type": "code",
      "metadata": {
        "id": "h9dM9tZk95LP",
        "colab_type": "code",
        "colab": {}
      },
      "source": [
        "imagePaths = list(paths.list_images(ORIG_INPUT_DATASET))\n",
        "random.seed(40)\n",
        "random.shuffle(imagePaths)\n",
        "\n",
        "# Train-Val-Test Split\n",
        "i = int(len(imagePaths) * TRAIN_SPLIT)\n",
        "trainPaths = imagePaths[:i]\n",
        "testPaths = imagePaths[i:]\n",
        "\n",
        "j = int(len(trainPaths) * VAL_SPLIT)\n",
        "valPaths = trainPaths[:j]\n",
        "trainPaths = trainPaths[j:]\n",
        "\n",
        "datasets = [\n",
        "\t(\"training\", trainPaths, TRAIN_PATH),\n",
        "\t(\"validation\", valPaths, VAL_PATH),\n",
        "\t(\"testing\", testPaths, TEST_PATH)\n",
        "]\n",
        "\n",
        "# loop over the datasets\n",
        "for (dType, imagePaths, baseOutput) in datasets:\n",
        "\n",
        "\t# if the output base output directory does not exist, creating it\n",
        "\tif not os.path.exists(baseOutput):\n",
        "\t\tos.makedirs(baseOutput)\n",
        "\n",
        "\t# loop over the input image paths\n",
        "\tfor inputPath in imagePaths:\n",
        "\t\t# extract the filename of the input image and extract the\n",
        "\t\t# class label (\"0\" for \"negative\" and \"1\" for \"positive\")\n",
        "\t\tfilename = inputPath.split(os.path.sep)[-1]\n",
        "\t\tlabel = filename[-5:-4]\n",
        "\n",
        "\t\t# build the path to the label directory\n",
        "\t\tlabelPath = os.path.sep.join([baseOutput, label])\n",
        "\n",
        "\t\t# if the label output directory does not exist, create it\n",
        "\t\tif not os.path.exists(labelPath):\n",
        "\t\t\tos.makedirs(labelPath)\n",
        "\n",
        "\t\tp = os.path.sep.join([labelPath, filename])\n",
        "\t\tshutil.copy2(inputPath, p)"
      ],
      "execution_count": 0,
      "outputs": []
    },
    {
      "cell_type": "code",
      "metadata": {
        "id": "ajL0Ymri-JNI",
        "colab_type": "code",
        "colab": {}
      },
      "source": [
        "from keras.layers.normalization import BatchNormalization\n",
        "from keras.layers.convolutional import Conv2D\n",
        "from keras.layers.convolutional import AveragePooling2D\n",
        "from keras.layers.core import Activation\n",
        "from keras.layers.core import Dense\n",
        "from keras.layers import Flatten\n",
        "from keras.layers import Input\n",
        "from keras.models import Model\n",
        "from keras.layers import add\n",
        "from keras.regularizers import l2\n",
        "from keras import backend as K\n",
        "from keras.layers.core import Dropout"
      ],
      "execution_count": 0,
      "outputs": []
    },
    {
      "cell_type": "code",
      "metadata": {
        "id": "De5NULrT_NMb",
        "colab_type": "code",
        "colab": {}
      },
      "source": [
        "class WideRN:\n",
        "  def main_block(x, filters, n, strides, dropout):\n",
        "    \n",
        "\t  # Normal part\n",
        "\t  x_res = Conv2D(filters, (3,3), strides=strides, padding=\"same\")(x)\n",
        "\t  x_res = BatchNormalization()(x_res)\n",
        "\t  x_res = Activation('relu')(x_res)\n",
        "\t  x_res = Conv2D(filters, (3,3), padding=\"same\")(x_res)\n",
        "\t  # Alternative branch\n",
        "\t  x = Conv2D(filters, (1,1), strides=strides)(x)\n",
        "\t  # Merge Branches\n",
        "\t  x = add([x_res, x])\n",
        "\n",
        "\t  for i in range(n-1):\n",
        "\t\t  # Residual conection\n",
        "\t\t  x_res = BatchNormalization()(x)\n",
        "\t\t  x_res = Activation('relu')(x_res)\n",
        "\t\t  x_res = Conv2D(filters, (3,3), padding=\"same\")(x_res)\n",
        "\t\t  # Apply dropout if given\n",
        "\t\t  if dropout: x_res = Dropout(dropout)(x)\n",
        "\t\t  # Second part\n",
        "\t\t  x_res = BatchNormalization()(x_res)\n",
        "\t\t  x_res = Activation('relu')(x_res)\n",
        "\t\t  x_res = Conv2D(filters, (3,3), padding=\"same\")(x_res)\n",
        "\t\t  # Merge branches\n",
        "\t\t  x = add([x, x_res])\n",
        "\n",
        "\t  # Inter block part\n",
        "\t  x = BatchNormalization()(x)\n",
        "\t  x = Activation('relu')(x)\n",
        "\t  return x\n",
        "  \n",
        "  @staticmethod\n",
        "  def build(input_dims, output_dim, n, k, act= \"relu\", dropout=None):\n",
        "    n = (n-4)//6\n",
        "    # This returns a tensor input to the model\n",
        "    inputs = Input(shape=(input_dims))\n",
        "\n",
        "\t  # Head of the model\n",
        "    x = Conv2D(16, (3,3), padding=\"same\")(inputs)\n",
        "    x = BatchNormalization()(x)\n",
        "    x = Activation('relu')(x)\n",
        "    # 3 Blocks (normal-residual)\n",
        "    x = WideRN.main_block(x, 16*k, n, (1,1), dropout) # 0\n",
        "    x = WideRN.main_block(x, 32*k, n, (2,2), dropout) # 1\n",
        "    x = WideRN.main_block(x, 64*k, n, (2,2), dropout) # 2\n",
        "\n",
        "    # Final part of the model\n",
        "    x = AveragePooling2D((8,8))(x)\n",
        "    x = Flatten()(x)\n",
        "    x = Dense(output_dim)(x)\n",
        "    outputs = Activation(\"softmax\")(x)\n",
        "    model = Model(inputs=inputs, outputs=outputs)\n",
        "    return model\n"
      ],
      "execution_count": 0,
      "outputs": []
    },
    {
      "cell_type": "code",
      "metadata": {
        "id": "XA9SNvjjAW7Z",
        "colab_type": "code",
        "colab": {}
      },
      "source": [
        "model = WideRN.build((48,48,3), 2, 22, 4)"
      ],
      "execution_count": 0,
      "outputs": []
    },
    {
      "cell_type": "code",
      "metadata": {
        "id": "0nht6N7oAXzF",
        "colab_type": "code",
        "outputId": "b7553386-8009-4442-ebc4-614412f4946e",
        "colab": {
          "base_uri": "https://localhost:8080/",
          "height": 2805
        }
      },
      "source": [
        "model.summary()"
      ],
      "execution_count": 0,
      "outputs": [
        {
          "output_type": "stream",
          "text": [
            "__________________________________________________________________________________________________\n",
            "Layer (type)                    Output Shape         Param #     Connected to                     \n",
            "==================================================================================================\n",
            "input_3 (InputLayer)            (None, 48, 48, 3)    0                                            \n",
            "__________________________________________________________________________________________________\n",
            "conv2d_3 (Conv2D)               (None, 48, 48, 16)   448         input_3[0][0]                    \n",
            "__________________________________________________________________________________________________\n",
            "batch_normalization_3 (BatchNor (None, 48, 48, 16)   64          conv2d_3[0][0]                   \n",
            "__________________________________________________________________________________________________\n",
            "activation_3 (Activation)       (None, 48, 48, 16)   0           batch_normalization_3[0][0]      \n",
            "__________________________________________________________________________________________________\n",
            "conv2d_4 (Conv2D)               (None, 48, 48, 64)   9280        activation_3[0][0]               \n",
            "__________________________________________________________________________________________________\n",
            "batch_normalization_4 (BatchNor (None, 48, 48, 64)   256         conv2d_4[0][0]                   \n",
            "__________________________________________________________________________________________________\n",
            "activation_4 (Activation)       (None, 48, 48, 64)   0           batch_normalization_4[0][0]      \n",
            "__________________________________________________________________________________________________\n",
            "conv2d_5 (Conv2D)               (None, 48, 48, 64)   36928       activation_4[0][0]               \n",
            "__________________________________________________________________________________________________\n",
            "conv2d_6 (Conv2D)               (None, 48, 48, 64)   1088        activation_3[0][0]               \n",
            "__________________________________________________________________________________________________\n",
            "add_1 (Add)                     (None, 48, 48, 64)   0           conv2d_5[0][0]                   \n",
            "                                                                 conv2d_6[0][0]                   \n",
            "__________________________________________________________________________________________________\n",
            "batch_normalization_5 (BatchNor (None, 48, 48, 64)   256         add_1[0][0]                      \n",
            "__________________________________________________________________________________________________\n",
            "activation_5 (Activation)       (None, 48, 48, 64)   0           batch_normalization_5[0][0]      \n",
            "__________________________________________________________________________________________________\n",
            "conv2d_7 (Conv2D)               (None, 48, 48, 64)   36928       activation_5[0][0]               \n",
            "__________________________________________________________________________________________________\n",
            "batch_normalization_6 (BatchNor (None, 48, 48, 64)   256         conv2d_7[0][0]                   \n",
            "__________________________________________________________________________________________________\n",
            "activation_6 (Activation)       (None, 48, 48, 64)   0           batch_normalization_6[0][0]      \n",
            "__________________________________________________________________________________________________\n",
            "conv2d_8 (Conv2D)               (None, 48, 48, 64)   36928       activation_6[0][0]               \n",
            "__________________________________________________________________________________________________\n",
            "add_2 (Add)                     (None, 48, 48, 64)   0           add_1[0][0]                      \n",
            "                                                                 conv2d_8[0][0]                   \n",
            "__________________________________________________________________________________________________\n",
            "batch_normalization_7 (BatchNor (None, 48, 48, 64)   256         add_2[0][0]                      \n",
            "__________________________________________________________________________________________________\n",
            "activation_7 (Activation)       (None, 48, 48, 64)   0           batch_normalization_7[0][0]      \n",
            "__________________________________________________________________________________________________\n",
            "conv2d_9 (Conv2D)               (None, 48, 48, 64)   36928       activation_7[0][0]               \n",
            "__________________________________________________________________________________________________\n",
            "batch_normalization_8 (BatchNor (None, 48, 48, 64)   256         conv2d_9[0][0]                   \n",
            "__________________________________________________________________________________________________\n",
            "activation_8 (Activation)       (None, 48, 48, 64)   0           batch_normalization_8[0][0]      \n",
            "__________________________________________________________________________________________________\n",
            "conv2d_10 (Conv2D)              (None, 48, 48, 64)   36928       activation_8[0][0]               \n",
            "__________________________________________________________________________________________________\n",
            "add_3 (Add)                     (None, 48, 48, 64)   0           add_2[0][0]                      \n",
            "                                                                 conv2d_10[0][0]                  \n",
            "__________________________________________________________________________________________________\n",
            "batch_normalization_9 (BatchNor (None, 48, 48, 64)   256         add_3[0][0]                      \n",
            "__________________________________________________________________________________________________\n",
            "activation_9 (Activation)       (None, 48, 48, 64)   0           batch_normalization_9[0][0]      \n",
            "__________________________________________________________________________________________________\n",
            "conv2d_11 (Conv2D)              (None, 24, 24, 128)  73856       activation_9[0][0]               \n",
            "__________________________________________________________________________________________________\n",
            "batch_normalization_10 (BatchNo (None, 24, 24, 128)  512         conv2d_11[0][0]                  \n",
            "__________________________________________________________________________________________________\n",
            "activation_10 (Activation)      (None, 24, 24, 128)  0           batch_normalization_10[0][0]     \n",
            "__________________________________________________________________________________________________\n",
            "conv2d_12 (Conv2D)              (None, 24, 24, 128)  147584      activation_10[0][0]              \n",
            "__________________________________________________________________________________________________\n",
            "conv2d_13 (Conv2D)              (None, 24, 24, 128)  8320        activation_9[0][0]               \n",
            "__________________________________________________________________________________________________\n",
            "add_4 (Add)                     (None, 24, 24, 128)  0           conv2d_12[0][0]                  \n",
            "                                                                 conv2d_13[0][0]                  \n",
            "__________________________________________________________________________________________________\n",
            "batch_normalization_11 (BatchNo (None, 24, 24, 128)  512         add_4[0][0]                      \n",
            "__________________________________________________________________________________________________\n",
            "activation_11 (Activation)      (None, 24, 24, 128)  0           batch_normalization_11[0][0]     \n",
            "__________________________________________________________________________________________________\n",
            "conv2d_14 (Conv2D)              (None, 24, 24, 128)  147584      activation_11[0][0]              \n",
            "__________________________________________________________________________________________________\n",
            "batch_normalization_12 (BatchNo (None, 24, 24, 128)  512         conv2d_14[0][0]                  \n",
            "__________________________________________________________________________________________________\n",
            "activation_12 (Activation)      (None, 24, 24, 128)  0           batch_normalization_12[0][0]     \n",
            "__________________________________________________________________________________________________\n",
            "conv2d_15 (Conv2D)              (None, 24, 24, 128)  147584      activation_12[0][0]              \n",
            "__________________________________________________________________________________________________\n",
            "add_5 (Add)                     (None, 24, 24, 128)  0           add_4[0][0]                      \n",
            "                                                                 conv2d_15[0][0]                  \n",
            "__________________________________________________________________________________________________\n",
            "batch_normalization_13 (BatchNo (None, 24, 24, 128)  512         add_5[0][0]                      \n",
            "__________________________________________________________________________________________________\n",
            "activation_13 (Activation)      (None, 24, 24, 128)  0           batch_normalization_13[0][0]     \n",
            "__________________________________________________________________________________________________\n",
            "conv2d_16 (Conv2D)              (None, 24, 24, 128)  147584      activation_13[0][0]              \n",
            "__________________________________________________________________________________________________\n",
            "batch_normalization_14 (BatchNo (None, 24, 24, 128)  512         conv2d_16[0][0]                  \n",
            "__________________________________________________________________________________________________\n",
            "activation_14 (Activation)      (None, 24, 24, 128)  0           batch_normalization_14[0][0]     \n",
            "__________________________________________________________________________________________________\n",
            "conv2d_17 (Conv2D)              (None, 24, 24, 128)  147584      activation_14[0][0]              \n",
            "__________________________________________________________________________________________________\n",
            "add_6 (Add)                     (None, 24, 24, 128)  0           add_5[0][0]                      \n",
            "                                                                 conv2d_17[0][0]                  \n",
            "__________________________________________________________________________________________________\n",
            "batch_normalization_15 (BatchNo (None, 24, 24, 128)  512         add_6[0][0]                      \n",
            "__________________________________________________________________________________________________\n",
            "activation_15 (Activation)      (None, 24, 24, 128)  0           batch_normalization_15[0][0]     \n",
            "__________________________________________________________________________________________________\n",
            "conv2d_18 (Conv2D)              (None, 12, 12, 256)  295168      activation_15[0][0]              \n",
            "__________________________________________________________________________________________________\n",
            "batch_normalization_16 (BatchNo (None, 12, 12, 256)  1024        conv2d_18[0][0]                  \n",
            "__________________________________________________________________________________________________\n",
            "activation_16 (Activation)      (None, 12, 12, 256)  0           batch_normalization_16[0][0]     \n",
            "__________________________________________________________________________________________________\n",
            "conv2d_19 (Conv2D)              (None, 12, 12, 256)  590080      activation_16[0][0]              \n",
            "__________________________________________________________________________________________________\n",
            "conv2d_20 (Conv2D)              (None, 12, 12, 256)  33024       activation_15[0][0]              \n",
            "__________________________________________________________________________________________________\n",
            "add_7 (Add)                     (None, 12, 12, 256)  0           conv2d_19[0][0]                  \n",
            "                                                                 conv2d_20[0][0]                  \n",
            "__________________________________________________________________________________________________\n",
            "batch_normalization_17 (BatchNo (None, 12, 12, 256)  1024        add_7[0][0]                      \n",
            "__________________________________________________________________________________________________\n",
            "activation_17 (Activation)      (None, 12, 12, 256)  0           batch_normalization_17[0][0]     \n",
            "__________________________________________________________________________________________________\n",
            "conv2d_21 (Conv2D)              (None, 12, 12, 256)  590080      activation_17[0][0]              \n",
            "__________________________________________________________________________________________________\n",
            "batch_normalization_18 (BatchNo (None, 12, 12, 256)  1024        conv2d_21[0][0]                  \n",
            "__________________________________________________________________________________________________\n",
            "activation_18 (Activation)      (None, 12, 12, 256)  0           batch_normalization_18[0][0]     \n",
            "__________________________________________________________________________________________________\n",
            "conv2d_22 (Conv2D)              (None, 12, 12, 256)  590080      activation_18[0][0]              \n",
            "__________________________________________________________________________________________________\n",
            "add_8 (Add)                     (None, 12, 12, 256)  0           add_7[0][0]                      \n",
            "                                                                 conv2d_22[0][0]                  \n",
            "__________________________________________________________________________________________________\n",
            "batch_normalization_19 (BatchNo (None, 12, 12, 256)  1024        add_8[0][0]                      \n",
            "__________________________________________________________________________________________________\n",
            "activation_19 (Activation)      (None, 12, 12, 256)  0           batch_normalization_19[0][0]     \n",
            "__________________________________________________________________________________________________\n",
            "conv2d_23 (Conv2D)              (None, 12, 12, 256)  590080      activation_19[0][0]              \n",
            "__________________________________________________________________________________________________\n",
            "batch_normalization_20 (BatchNo (None, 12, 12, 256)  1024        conv2d_23[0][0]                  \n",
            "__________________________________________________________________________________________________\n",
            "activation_20 (Activation)      (None, 12, 12, 256)  0           batch_normalization_20[0][0]     \n",
            "__________________________________________________________________________________________________\n",
            "conv2d_24 (Conv2D)              (None, 12, 12, 256)  590080      activation_20[0][0]              \n",
            "__________________________________________________________________________________________________\n",
            "add_9 (Add)                     (None, 12, 12, 256)  0           add_8[0][0]                      \n",
            "                                                                 conv2d_24[0][0]                  \n",
            "__________________________________________________________________________________________________\n",
            "batch_normalization_21 (BatchNo (None, 12, 12, 256)  1024        add_9[0][0]                      \n",
            "__________________________________________________________________________________________________\n",
            "activation_21 (Activation)      (None, 12, 12, 256)  0           batch_normalization_21[0][0]     \n",
            "__________________________________________________________________________________________________\n",
            "average_pooling2d_1 (AveragePoo (None, 1, 1, 256)    0           activation_21[0][0]              \n",
            "__________________________________________________________________________________________________\n",
            "flatten_1 (Flatten)             (None, 256)          0           average_pooling2d_1[0][0]        \n",
            "__________________________________________________________________________________________________\n",
            "dense_1 (Dense)                 (None, 2)            514         flatten_1[0][0]                  \n",
            "__________________________________________________________________________________________________\n",
            "activation_22 (Activation)      (None, 2)            0           dense_1[0][0]                    \n",
            "==================================================================================================\n",
            "Total params: 4,305,474\n",
            "Trainable params: 4,300,066\n",
            "Non-trainable params: 5,408\n",
            "__________________________________________________________________________________________________\n"
          ],
          "name": "stdout"
        }
      ]
    },
    {
      "cell_type": "code",
      "metadata": {
        "id": "dWAsWEaoDqza",
        "colab_type": "code",
        "colab": {}
      },
      "source": [
        "from keras.preprocessing.image import ImageDataGenerator\n",
        "from keras.utils import np_utils\n",
        "from sklearn.metrics import classification_report\n",
        "from sklearn.metrics import confusion_matrix\n",
        "from imutils import paths\n",
        "import numpy as np"
      ],
      "execution_count": 0,
      "outputs": []
    },
    {
      "cell_type": "code",
      "metadata": {
        "id": "HZC6yMJUEBPm",
        "colab_type": "code",
        "colab": {}
      },
      "source": [
        "NUM_EPOCHS = 30\n",
        "Batch = 64"
      ],
      "execution_count": 0,
      "outputs": []
    },
    {
      "cell_type": "code",
      "metadata": {
        "id": "UYfATcp6EIFQ",
        "colab_type": "code",
        "colab": {}
      },
      "source": [
        "trainPaths = list(paths.list_images(TRAIN_PATH))\n",
        "totalTrain = len(trainPaths)\n",
        "totalVal = len(list(paths.list_images(VAL_PATH)))\n",
        "totalTest = len(list(paths.list_images(TEST_PATH)))\n",
        "\n",
        "# Calculating class weights due to imbalanced dataset\n",
        "trainLabels = [int(p.split(os.path.sep)[-2]) for p in trainPaths]\n",
        "trainLabels = np_utils.to_categorical(trainLabels)\n",
        "classTotals = trainLabels.sum(axis=0)\n",
        "classWeight = classTotals.max() / classTotals"
      ],
      "execution_count": 0,
      "outputs": []
    },
    {
      "cell_type": "code",
      "metadata": {
        "id": "SA6hK7tgEOGd",
        "colab_type": "code",
        "colab": {}
      },
      "source": [
        "trainAug = ImageDataGenerator(\n",
        "\trescale=1 / 255.0,\n",
        "\trotation_range=20,\n",
        "\tzoom_range=0.05,\n",
        "\twidth_shift_range=0.1,\n",
        "\theight_shift_range=0.1,\n",
        "\tshear_range=0.05,\n",
        "\thorizontal_flip=True,\n",
        "\tvertical_flip=True,\n",
        "\tfill_mode=\"nearest\")"
      ],
      "execution_count": 0,
      "outputs": []
    },
    {
      "cell_type": "code",
      "metadata": {
        "id": "IzcIZ4vdERpy",
        "colab_type": "code",
        "colab": {}
      },
      "source": [
        "valAug = ImageDataGenerator(rescale=1 / 255.0)\n",
        "testAug = ImageDataGenerator(rescale =1 /255.0)"
      ],
      "execution_count": 0,
      "outputs": []
    },
    {
      "cell_type": "code",
      "metadata": {
        "id": "qf0er7uvEUbG",
        "colab_type": "code",
        "outputId": "ce16898d-8e68-4529-a80c-8be2bffb46f5",
        "colab": {
          "base_uri": "https://localhost:8080/",
          "height": 68
        }
      },
      "source": [
        "trainGen = trainAug.flow_from_directory(\n",
        "\tTRAIN_PATH,\n",
        "\tclass_mode=\"categorical\",\n",
        "\ttarget_size=(48, 48),\n",
        "\tcolor_mode=\"rgb\",\n",
        "\tshuffle=True,\n",
        "\tbatch_size=Batch)\n",
        "\n",
        "valGen = valAug.flow_from_directory(\n",
        "\tVAL_PATH,\n",
        "\tclass_mode=\"categorical\",\n",
        "\ttarget_size=(48, 48),\n",
        "\tcolor_mode=\"rgb\",\n",
        "\tshuffle=False,\n",
        "\tbatch_size=Batch)\n",
        "\n",
        "testGen = testAug.flow_from_directory(\n",
        "\tTEST_PATH,\n",
        "\tclass_mode=\"categorical\",\n",
        "\ttarget_size=(48, 48),\n",
        "\tcolor_mode=\"rgb\",\n",
        "\tshuffle=False,\n",
        "\tbatch_size=Batch)\n"
      ],
      "execution_count": 0,
      "outputs": [
        {
          "output_type": "stream",
          "text": [
            "Found 199818 images belonging to 2 classes.\n",
            "Found 22201 images belonging to 2 classes.\n",
            "Found 55505 images belonging to 2 classes.\n"
          ],
          "name": "stdout"
        }
      ]
    },
    {
      "cell_type": "code",
      "metadata": {
        "id": "al-FGxMGEguP",
        "colab_type": "code",
        "colab": {}
      },
      "source": [
        "model.compile(optimizer=\"adam\" , loss=\"binary_crossentropy\", metrics=['accuracy'])"
      ],
      "execution_count": 0,
      "outputs": []
    },
    {
      "cell_type": "code",
      "metadata": {
        "id": "ccJ5CAbSEvZV",
        "colab_type": "code",
        "outputId": "d5b785ba-4309-4aa9-d4dc-1495007331c5",
        "colab": {
          "base_uri": "https://localhost:8080/",
          "height": 683
        }
      },
      "source": [
        "hist = model.fit_generator(\n",
        "\ttrainGen,\n",
        "\tsteps_per_epoch=totalTrain // Batch,\n",
        "\tvalidation_data=valGen,\n",
        "\tvalidation_steps=totalVal // Batch,\n",
        "\tclass_weight=classWeight,\n",
        "\tepochs=NUM_EPOCHS)"
      ],
      "execution_count": 0,
      "outputs": [
        {
          "output_type": "stream",
          "text": [
            "Epoch 1/30\n",
            "3122/3122 [==============================] - 536s 172ms/step - loss: 0.3475 - acc: 0.8502 - val_loss: 0.4036 - val_acc: 0.8424\n",
            "Epoch 2/30\n",
            "3122/3122 [==============================] - 526s 168ms/step - loss: 0.3150 - acc: 0.8658 - val_loss: 0.4109 - val_acc: 0.8255\n",
            "Epoch 3/30\n",
            "3122/3122 [==============================] - 526s 168ms/step - loss: 0.2965 - acc: 0.8738 - val_loss: 0.3312 - val_acc: 0.8574\n",
            "Epoch 4/30\n",
            "3122/3122 [==============================] - 526s 169ms/step - loss: 0.2849 - acc: 0.8795 - val_loss: 0.3614 - val_acc: 0.8602\n",
            "Epoch 5/30\n",
            "3122/3122 [==============================] - 526s 169ms/step - loss: 0.2742 - acc: 0.8840 - val_loss: 0.3247 - val_acc: 0.8670\n",
            "Epoch 6/30\n",
            "3122/3122 [==============================] - 526s 169ms/step - loss: 0.2667 - acc: 0.8875 - val_loss: 0.3466 - val_acc: 0.8618\n",
            "Epoch 7/30\n",
            "3122/3122 [==============================] - 526s 168ms/step - loss: 0.2603 - acc: 0.8910 - val_loss: 1.0202 - val_acc: 0.7868\n",
            "Epoch 8/30\n",
            "3122/3122 [==============================] - 526s 169ms/step - loss: 0.2558 - acc: 0.8927 - val_loss: 0.4134 - val_acc: 0.8497\n",
            "Epoch 9/30\n",
            "3122/3122 [==============================] - 525s 168ms/step - loss: 0.2513 - acc: 0.8948 - val_loss: 0.4970 - val_acc: 0.8514\n",
            "Epoch 10/30\n",
            "3122/3122 [==============================] - 525s 168ms/step - loss: 0.2481 - acc: 0.8958 - val_loss: 0.2718 - val_acc: 0.8886\n",
            "Epoch 11/30\n",
            "3122/3122 [==============================] - 525s 168ms/step - loss: 0.2438 - acc: 0.8972 - val_loss: 0.4602 - val_acc: 0.8161\n",
            "Epoch 12/30\n",
            "3122/3122 [==============================] - 525s 168ms/step - loss: 0.2407 - acc: 0.8995 - val_loss: 0.3303 - val_acc: 0.8743\n",
            "Epoch 13/30\n",
            "3122/3122 [==============================] - 527s 169ms/step - loss: 0.2382 - acc: 0.9002 - val_loss: 0.2879 - val_acc: 0.8862\n",
            "Epoch 14/30\n",
            "3122/3122 [==============================] - 527s 169ms/step - loss: 0.2357 - acc: 0.9014 - val_loss: 0.3493 - val_acc: 0.8733\n",
            "Epoch 15/30\n",
            "3122/3122 [==============================] - 526s 169ms/step - loss: 0.2332 - acc: 0.9031 - val_loss: 0.2763 - val_acc: 0.8806\n",
            "Epoch 16/30\n",
            "3122/3122 [==============================] - 524s 168ms/step - loss: 0.2307 - acc: 0.9041 - val_loss: 0.3793 - val_acc: 0.8655\n",
            "Epoch 17/30\n",
            "3122/3122 [==============================] - 524s 168ms/step - loss: 0.2285 - acc: 0.9045 - val_loss: 0.3433 - val_acc: 0.8527\n",
            "Epoch 18/30\n",
            "3122/3122 [==============================] - 524s 168ms/step - loss: 0.2254 - acc: 0.9061 - val_loss: 0.3405 - val_acc: 0.8753\n",
            "Epoch 19/30\n",
            "2802/3122 [=========================>....] - ETA: 51s - loss: 0.2242 - acc: 0.9068Buffered data was truncated after reaching the output size limit."
          ],
          "name": "stdout"
        }
      ]
    },
    {
      "cell_type": "code",
      "metadata": {
        "id": "EoacizOKgXbB",
        "colab_type": "code",
        "colab": {}
      },
      "source": [
        "predId = model.predict_generator(testGen,\n",
        "\tsteps=(totalTest // Batch) + 1)"
      ],
      "execution_count": 0,
      "outputs": []
    },
    {
      "cell_type": "code",
      "metadata": {
        "id": "ZBbJ-hdkrTop",
        "colab_type": "code",
        "outputId": "4a3c0ec5-aa05-44a9-df84-ff62be84f4de",
        "colab": {
          "base_uri": "https://localhost:8080/",
          "height": 170
        }
      },
      "source": [
        "predId = np.argmax(predId, axis=1)\n",
        "print(classification_report(testGen.classes, predId,\n",
        "\ttarget_names=testGen.class_indices.keys()))"
      ],
      "execution_count": 0,
      "outputs": [
        {
          "output_type": "stream",
          "text": [
            "              precision    recall  f1-score   support\n",
            "\n",
            "           0       0.92      0.90      0.91     39693\n",
            "           1       0.76      0.81      0.78     15812\n",
            "\n",
            "    accuracy                           0.87     55505\n",
            "   macro avg       0.84      0.85      0.85     55505\n",
            "weighted avg       0.88      0.87      0.87     55505\n",
            "\n"
          ],
          "name": "stdout"
        }
      ]
    },
    {
      "cell_type": "code",
      "metadata": {
        "id": "6oelCfLJrg1R",
        "colab_type": "code",
        "outputId": "f9ef1fc2-4af6-4307-9555-40b74133224e",
        "colab": {
          "base_uri": "https://localhost:8080/",
          "height": 102
        }
      },
      "source": [
        "cm = confusion_matrix(testGen.classes, predId)\n",
        "total = sum(sum(cm))\n",
        "acc = (cm[0, 0] + cm[1, 1]) / total\n",
        "sensitivity = cm[0, 0] / (cm[0, 0] + cm[0, 1])\n",
        "specificity = cm[1, 1] / (cm[1, 0] + cm[1, 1])\n",
        " \n",
        "print(cm)\n",
        "print(\"acc: {:.4f}\".format(acc))\n",
        "print(\"sensitivity: {:.4f}\".format(sensitivity))\n",
        "print(\"specificity: {:.4f}\".format(specificity))"
      ],
      "execution_count": 0,
      "outputs": [
        {
          "output_type": "stream",
          "text": [
            "[[35648  4045]\n",
            " [ 2994 12818]]\n",
            "acc: 0.8732\n",
            "sensitivity: 0.8981\n",
            "specificity: 0.8107\n"
          ],
          "name": "stdout"
        }
      ]
    },
    {
      "cell_type": "markdown",
      "metadata": {
        "id": "NSTvovtQsA2w",
        "colab_type": "text"
      },
      "source": [
        "##### FINAL ACCURACY ON TEST DATASET ~ 87.32%"
      ]
    }
  ]
}