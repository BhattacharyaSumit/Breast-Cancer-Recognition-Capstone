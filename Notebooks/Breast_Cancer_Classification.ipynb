{
  "nbformat": 4,
  "nbformat_minor": 0,
  "metadata": {
    "colab": {
      "name": "Breast Cancer Classification.ipynb",
      "version": "0.3.2",
      "provenance": [],
      "collapsed_sections": [],
      "toc_visible": true
    },
    "kernelspec": {
      "name": "python3",
      "display_name": "Python 3"
    },
    "accelerator": "GPU"
  },
  "cells": [
    {
      "cell_type": "code",
      "metadata": {
        "id": "szOtwyjOePnS",
        "colab_type": "code",
        "colab": {}
      },
      "source": [
        "import json"
      ],
      "execution_count": 0,
      "outputs": []
    },
    {
      "cell_type": "code",
      "metadata": {
        "id": "vgCBCBgAjfwB",
        "colab_type": "code",
        "outputId": "793185bf-9654-415d-a707-61da081bc74e",
        "colab": {
          "base_uri": "https://localhost:8080/",
          "height": 34
        }
      },
      "source": [
        "!mkdir -p ~/.kaggle\n",
        "!cp kaggle.json ~/.kaggle/\n",
        "!chmod 600 ~/.kaggle/kaggle.json\n",
        "!ls ~/.kaggle"
      ],
      "execution_count": 0,
      "outputs": [
        {
          "output_type": "stream",
          "text": [
            "kaggle.json\n"
          ],
          "name": "stdout"
        }
      ]
    },
    {
      "cell_type": "code",
      "metadata": {
        "id": "8TUUBGM2j5sA",
        "colab_type": "code",
        "outputId": "c9be9c61-c495-4069-fab3-a0a045d4b618",
        "colab": {
          "base_uri": "https://localhost:8080/",
          "height": 68
        }
      },
      "source": [
        "!ls -l ~/.kaggle\n",
        "!cat ~/.kaggle/kaggle.json"
      ],
      "execution_count": 0,
      "outputs": [
        {
          "output_type": "stream",
          "text": [
            "total 4\n",
            "-rw------- 1 root root 73 Jun 12 07:20 kaggle.json\n",
            "{\"username\":\"sumitbhattacharya\",\"key\":\"42781fe0c37baee206338a2f994bb201\"}"
          ],
          "name": "stdout"
        }
      ]
    },
    {
      "cell_type": "code",
      "metadata": {
        "id": "OORpkUvHj_rQ",
        "colab_type": "code",
        "colab": {}
      },
      "source": [
        "!pip install -q kaggle"
      ],
      "execution_count": 0,
      "outputs": []
    },
    {
      "cell_type": "code",
      "metadata": {
        "id": "fMhoC0uvk0kN",
        "colab_type": "code",
        "outputId": "75ff474f-981c-4d28-c60a-faa148d17a1a",
        "colab": {
          "base_uri": "https://localhost:8080/",
          "height": 88
        }
      },
      "source": [
        "!kaggle datasets list -s breast-histopathology"
      ],
      "execution_count": 0,
      "outputs": [
        {
          "output_type": "stream",
          "text": [
            "ref                                             title                         size  lastUpdated          downloadCount  \n",
            "----------------------------------------------  ----------------------------  ----  -------------------  -------------  \n",
            "paultimothymooney/breast-histopathology-images  Breast Histopathology Images   1GB  2017-12-19 05:46:40           6052  \n"
          ],
          "name": "stdout"
        }
      ]
    },
    {
      "cell_type": "code",
      "metadata": {
        "id": "frPYb5vclH4z",
        "colab_type": "code",
        "outputId": "aa272bda-cd67-4791-d779-e2cf02f7d684",
        "colab": {
          "base_uri": "https://localhost:8080/",
          "height": 68
        }
      },
      "source": [
        "!kaggle datasets download --force paultimothymooney/breast-histopathology-images"
      ],
      "execution_count": 0,
      "outputs": [
        {
          "output_type": "stream",
          "text": [
            "Downloading breast-histopathology-images.zip to /content\n",
            " 99% 1.47G/1.49G [00:35<00:00, 41.6MB/s]\n",
            "100% 1.49G/1.49G [00:35<00:00, 45.1MB/s]\n"
          ],
          "name": "stdout"
        }
      ]
    },
    {
      "cell_type": "code",
      "metadata": {
        "id": "c9_RSxTUnJCX",
        "colab_type": "code",
        "colab": {}
      },
      "source": [
        "!mkdir dataset"
      ],
      "execution_count": 0,
      "outputs": []
    },
    {
      "cell_type": "code",
      "metadata": {
        "id": "Zksuu3mPmzu2",
        "colab_type": "code",
        "outputId": "6ac4f7fb-57ed-43b4-f088-8b48f728d2d9",
        "colab": {
          "base_uri": "https://localhost:8080/",
          "height": 51
        }
      },
      "source": [
        "!unzip breast-histopathology-images.zip"
      ],
      "execution_count": 0,
      "outputs": [
        {
          "output_type": "stream",
          "text": [
            "Archive:  breast-histopathology-images.zip\n",
            "  inflating: IDC_regular_ps50_idx5.zip  \n"
          ],
          "name": "stdout"
        }
      ]
    },
    {
      "cell_type": "code",
      "metadata": {
        "id": "UAhU2DN0nnLM",
        "colab_type": "code",
        "outputId": "2dc738c8-e305-4311-b0a2-c05181b18ccc",
        "colab": {
          "base_uri": "https://localhost:8080/",
          "height": 34
        }
      },
      "source": [
        "cd /content/dataset"
      ],
      "execution_count": 0,
      "outputs": [
        {
          "output_type": "stream",
          "text": [
            "/content/dataset\n"
          ],
          "name": "stdout"
        }
      ]
    },
    {
      "cell_type": "code",
      "metadata": {
        "id": "ynNRrMgmnxxr",
        "colab_type": "code",
        "colab": {}
      },
      "source": [
        "!unzip /content/IDC_regular_ps50_idx5.zip"
      ],
      "execution_count": 0,
      "outputs": []
    },
    {
      "cell_type": "code",
      "metadata": {
        "id": "Mre7cFgKo0yO",
        "colab_type": "code",
        "outputId": "32610b51-75fd-4638-d4d9-c418ee33a6bc",
        "colab": {
          "base_uri": "https://localhost:8080/",
          "height": 34
        }
      },
      "source": [
        "cd /content"
      ],
      "execution_count": 0,
      "outputs": [
        {
          "output_type": "stream",
          "text": [
            "/content\n"
          ],
          "name": "stdout"
        }
      ]
    },
    {
      "cell_type": "code",
      "metadata": {
        "id": "vVeyQ6akq5ww",
        "colab_type": "code",
        "colab": {}
      },
      "source": [
        "!mkdir clean_dir"
      ],
      "execution_count": 0,
      "outputs": []
    },
    {
      "cell_type": "code",
      "metadata": {
        "id": "IY0illlAu5XX",
        "colab_type": "code",
        "colab": {}
      },
      "source": [
        "import os"
      ],
      "execution_count": 0,
      "outputs": []
    },
    {
      "cell_type": "code",
      "metadata": {
        "id": "ZCrCk31Xqqkm",
        "colab_type": "code",
        "colab": {}
      },
      "source": [
        "ORIG_INPUT_DATASET = \"/content/dataset\"\n",
        "BASE_PATH = \"/content/clean_dir\"\n",
        " \n",
        "TRAIN_PATH = os.path.sep.join([BASE_PATH, \"training\"])\n",
        "VAL_PATH = os.path.sep.join([BASE_PATH, \"validation\"])\n",
        "TEST_PATH = os.path.sep.join([BASE_PATH, \"testing\"])\n",
        " \n",
        "TRAIN_SPLIT = 0.8\n",
        "VAL_SPLIT = 0.1"
      ],
      "execution_count": 0,
      "outputs": []
    },
    {
      "cell_type": "code",
      "metadata": {
        "id": "iJai7gOirgQI",
        "colab_type": "code",
        "colab": {}
      },
      "source": [
        "from imutils import paths\n",
        "import random\n",
        "import shutil"
      ],
      "execution_count": 0,
      "outputs": []
    },
    {
      "cell_type": "code",
      "metadata": {
        "id": "oydzABQcs1mo",
        "colab_type": "code",
        "outputId": "eb2758d3-48be-41ad-80f3-9f3791c6d986",
        "colab": {
          "base_uri": "https://localhost:8080/",
          "height": 34
        }
      },
      "source": [
        "list(paths.list_images(ORIG_INPUT_DATASET))[0].split(os.path.sep)[-1]"
      ],
      "execution_count": 0,
      "outputs": [
        {
          "output_type": "execute_result",
          "data": {
            "text/plain": [
              "'12897_idx5_x1651_y701_class1.png'"
            ]
          },
          "metadata": {
            "tags": []
          },
          "execution_count": 44
        }
      ]
    },
    {
      "cell_type": "code",
      "metadata": {
        "id": "fw08Qyknr9iv",
        "colab_type": "code",
        "colab": {}
      },
      "source": [
        "imagePaths = list(paths.list_images(ORIG_INPUT_DATASET))\n",
        "random.seed(40)\n",
        "random.shuffle(imagePaths)\n",
        "\n",
        "# Train-Val-Test Split\n",
        "i = int(len(imagePaths) * TRAIN_SPLIT)\n",
        "trainPaths = imagePaths[:i]\n",
        "testPaths = imagePaths[i:]\n",
        "\n",
        "j = int(len(trainPaths) * VAL_SPLIT)\n",
        "valPaths = trainPaths[:j]\n",
        "trainPaths = trainPaths[j:]\n",
        "\n",
        "datasets = [\n",
        "\t(\"training\", trainPaths, TRAIN_PATH),\n",
        "\t(\"validation\", valPaths, VAL_PATH),\n",
        "\t(\"testing\", testPaths, TEST_PATH)\n",
        "]\n",
        "\n",
        "# loop over the datasets\n",
        "for (dType, imagePaths, baseOutput) in datasets:\n",
        "\n",
        "\t# if the output base output directory does not exist, creating it\n",
        "\tif not os.path.exists(baseOutput):\n",
        "\t\tos.makedirs(baseOutput)\n",
        "\n",
        "\t# loop over the input image paths\n",
        "\tfor inputPath in imagePaths:\n",
        "\t\t# extract the filename of the input image and extract the\n",
        "\t\t# class label (\"0\" for \"negative\" and \"1\" for \"positive\")\n",
        "\t\tfilename = inputPath.split(os.path.sep)[-1]\n",
        "\t\tlabel = filename[-5:-4]\n",
        "\n",
        "\t\t# build the path to the label directory\n",
        "\t\tlabelPath = os.path.sep.join([baseOutput, label])\n",
        "\n",
        "\t\t# if the label output directory does not exist, create it\n",
        "\t\tif not os.path.exists(labelPath):\n",
        "\t\t\tos.makedirs(labelPath)\n",
        "\n",
        "\t\tp = os.path.sep.join([labelPath, filename])\n",
        "\t\tshutil.copy2(inputPath, p)"
      ],
      "execution_count": 0,
      "outputs": []
    },
    {
      "cell_type": "code",
      "metadata": {
        "id": "iUxmfcUXuwo2",
        "colab_type": "code",
        "outputId": "ffa2d78d-fbfa-430d-fe11-a2564929252b",
        "colab": {
          "base_uri": "https://localhost:8080/",
          "height": 34
        }
      },
      "source": [
        "from keras.models import Sequential\n",
        "from keras.layers.normalization import BatchNormalization\n",
        "from keras.layers.convolutional import SeparableConv2D\n",
        "from keras.layers.convolutional import MaxPooling2D\n",
        "from keras.layers.core import Activation\n",
        "from keras.layers.core import Flatten\n",
        "from keras.layers.core import Dropout\n",
        "from keras.layers.core import Dense\n",
        "from keras import backend as K"
      ],
      "execution_count": 0,
      "outputs": [
        {
          "output_type": "stream",
          "text": [
            "Using TensorFlow backend.\n"
          ],
          "name": "stderr"
        }
      ]
    },
    {
      "cell_type": "code",
      "metadata": {
        "id": "jvfxZoo7xorZ",
        "colab_type": "code",
        "outputId": "484c8f2c-d7b6-4062-d290-f639711537a6",
        "colab": {
          "base_uri": "https://localhost:8080/",
          "height": 34
        }
      },
      "source": [
        "K.image_data_format()"
      ],
      "execution_count": 0,
      "outputs": [
        {
          "output_type": "execute_result",
          "data": {
            "text/plain": [
              "'channels_last'"
            ]
          },
          "metadata": {
            "tags": []
          },
          "execution_count": 5
        }
      ]
    },
    {
      "cell_type": "code",
      "metadata": {
        "id": "FeObbiI5xLq8",
        "colab_type": "code",
        "colab": {}
      },
      "source": [
        "class NeuralNet:\n",
        "\t@staticmethod\n",
        "\tdef build(width, height, depth, classes=2):\n",
        "\t\t# initialize the model along with the input shape to be channels_last and the channels dimension \n",
        "\t\tmodel = Sequential()\n",
        "\t\tinputShape = (height, width, depth)\n",
        "\t\tchanDim = -1\n",
        "\n",
        "\n",
        "\t\t# CONV => RELU => BATCHNORM => POOLING => DROPOUT\n",
        "\t\tmodel.add(SeparableConv2D(32, (3, 3), padding=\"same\",\n",
        "\t\t\tinput_shape=inputShape))\n",
        "\t\tmodel.add(Activation(\"relu\"))\n",
        "\t\tmodel.add(BatchNormalization(axis=chanDim))\n",
        "\t\tmodel.add(MaxPooling2D(pool_size=(2, 2)))\n",
        "\t\tmodel.add(Dropout(0.25))\n",
        "\n",
        "\t\t# (CONV => RELU => BATCHNORM) * 2 => POOLING => DROPOUT\n",
        "\t\tmodel.add(SeparableConv2D(64, (3, 3), padding=\"same\"))\n",
        "\t\tmodel.add(Activation(\"relu\"))\n",
        "\t\tmodel.add(BatchNormalization(axis=chanDim))\n",
        "\t\tmodel.add(SeparableConv2D(64, (3, 3), padding=\"same\"))\n",
        "\t\tmodel.add(Activation(\"relu\"))\n",
        "\t\tmodel.add(BatchNormalization(axis=chanDim))\n",
        "\t\tmodel.add(MaxPooling2D(pool_size=(2, 2)))\n",
        "\t\tmodel.add(Dropout(0.25))\n",
        "\n",
        "\t\t# (CONV => RELU => BATCHNORM) * 3 => POOLING => DROPOUT\n",
        "\t\tmodel.add(SeparableConv2D(128, (3, 3), padding=\"same\"))\n",
        "\t\tmodel.add(Activation(\"relu\"))\n",
        "\t\tmodel.add(BatchNormalization(axis=chanDim))\n",
        "\t\tmodel.add(SeparableConv2D(128, (3, 3), padding=\"same\"))\n",
        "\t\tmodel.add(Activation(\"relu\"))\n",
        "\t\tmodel.add(BatchNormalization(axis=chanDim))\n",
        "\t\tmodel.add(SeparableConv2D(128, (3, 3), padding=\"same\"))\n",
        "\t\tmodel.add(Activation(\"relu\"))\n",
        "\t\tmodel.add(BatchNormalization(axis=chanDim))\n",
        "\t\tmodel.add(MaxPooling2D(pool_size=(2, 2)))\n",
        "\t\tmodel.add(Dropout(0.25))\n",
        "\n",
        "\t\t# FLATTEN => DENSE => RELU => BATCHNORM => DROPOUT\n",
        "\t\tmodel.add(Flatten())\n",
        "\t\tmodel.add(Dense(256))\n",
        "\t\tmodel.add(Activation(\"relu\"))\n",
        "\t\tmodel.add(BatchNormalization())\n",
        "\t\tmodel.add(Dropout(0.5))\n",
        "\n",
        "\t\t# DENSE => SOFTMAX\n",
        "\t\tmodel.add(Dense(classes))\n",
        "\t\tmodel.add(Activation(\"softmax\"))\n",
        "\n",
        "\t\t\n",
        "\t\treturn model"
      ],
      "execution_count": 0,
      "outputs": []
    },
    {
      "cell_type": "code",
      "metadata": {
        "id": "ji1XvLkGy4qv",
        "colab_type": "code",
        "colab": {}
      },
      "source": [
        "from keras.preprocessing.image import ImageDataGenerator\n",
        "from keras.callbacks import LearningRateScheduler\n",
        "from keras.optimizers import Adagrad\n",
        "from keras.utils import np_utils\n",
        "from sklearn.metrics import classification_report\n",
        "from sklearn.metrics import confusion_matrix\n",
        "from imutils import paths\n",
        "import numpy as np"
      ],
      "execution_count": 0,
      "outputs": []
    },
    {
      "cell_type": "code",
      "metadata": {
        "id": "sajy_-WqzW7g",
        "colab_type": "code",
        "colab": {}
      },
      "source": [
        "NUM_EPOCHS = 20\n",
        "INIT_LR = 1e-2\n",
        "Batch = 64"
      ],
      "execution_count": 0,
      "outputs": []
    },
    {
      "cell_type": "code",
      "metadata": {
        "id": "HZyxHXgC1agF",
        "colab_type": "code",
        "colab": {}
      },
      "source": [
        "trainPaths = list(paths.list_images(TRAIN_PATH))\n",
        "totalTrain = len(trainPaths)\n",
        "totalVal = len(list(paths.list_images(VAL_PATH)))\n",
        "totalTest = len(list(paths.list_images(TEST_PATH)))\n",
        "\n",
        "# Calculating class weights due to imbalanced dataset\n",
        "trainLabels = [int(p.split(os.path.sep)[-2]) for p in trainPaths]\n",
        "trainLabels = np_utils.to_categorical(trainLabels)\n",
        "classTotals = trainLabels.sum(axis=0)\n",
        "classWeight = classTotals.max() / classTotals"
      ],
      "execution_count": 0,
      "outputs": []
    },
    {
      "cell_type": "code",
      "metadata": {
        "id": "L9QnsH9o6TFD",
        "colab_type": "code",
        "outputId": "3f328869-b6c0-4075-9cd6-7fd294e3037f",
        "colab": {
          "base_uri": "https://localhost:8080/",
          "height": 34
        }
      },
      "source": [
        "classTotals"
      ],
      "execution_count": 0,
      "outputs": [
        {
          "output_type": "execute_result",
          "data": {
            "text/plain": [
              "array([143214.,  56604.], dtype=float32)"
            ]
          },
          "metadata": {
            "tags": []
          },
          "execution_count": 10
        }
      ]
    },
    {
      "cell_type": "code",
      "metadata": {
        "id": "BdFR2y1s2aqD",
        "colab_type": "code",
        "colab": {}
      },
      "source": [
        "trainAug = ImageDataGenerator(\n",
        "\trescale=1 / 255.0,\n",
        "\trotation_range=20,\n",
        "\tzoom_range=0.05,\n",
        "\twidth_shift_range=0.1,\n",
        "\theight_shift_range=0.1,\n",
        "\tshear_range=0.05,\n",
        "\thorizontal_flip=True,\n",
        "\tvertical_flip=True,\n",
        "\tfill_mode=\"nearest\")\n"
      ],
      "execution_count": 0,
      "outputs": []
    },
    {
      "cell_type": "code",
      "metadata": {
        "id": "_7_0_VzE2dT8",
        "colab_type": "code",
        "colab": {}
      },
      "source": [
        "valAug = ImageDataGenerator(rescale=1 / 255.0)\n",
        "testAug = ImageDataGenerator(rescale =1 /255.0)"
      ],
      "execution_count": 0,
      "outputs": []
    },
    {
      "cell_type": "code",
      "metadata": {
        "id": "dOfpjCUv2qBR",
        "colab_type": "code",
        "outputId": "92f281a7-e58b-4cf6-cb33-c90198823342",
        "colab": {
          "base_uri": "https://localhost:8080/",
          "height": 34
        }
      },
      "source": [
        "trainGen = trainAug.flow_from_directory(\n",
        "\tTRAIN_PATH,\n",
        "\tclass_mode=\"categorical\",\n",
        "\ttarget_size=(48, 48),\n",
        "\tcolor_mode=\"rgb\",\n",
        "\tshuffle=True,\n",
        "\tbatch_size=Batch)"
      ],
      "execution_count": 0,
      "outputs": [
        {
          "output_type": "stream",
          "text": [
            "Found 199818 images belonging to 2 classes.\n"
          ],
          "name": "stdout"
        }
      ]
    },
    {
      "cell_type": "code",
      "metadata": {
        "id": "6Y3FPX8c2-pk",
        "colab_type": "code",
        "outputId": "c0ae8e4e-7c65-4a46-838b-2f0ba34c90b0",
        "colab": {
          "base_uri": "https://localhost:8080/",
          "height": 34
        }
      },
      "source": [
        "valGen = valAug.flow_from_directory(\n",
        "\tVAL_PATH,\n",
        "\tclass_mode=\"categorical\",\n",
        "\ttarget_size=(48, 48),\n",
        "\tcolor_mode=\"rgb\",\n",
        "\tshuffle=False,\n",
        "\tbatch_size=Batch)"
      ],
      "execution_count": 0,
      "outputs": [
        {
          "output_type": "stream",
          "text": [
            "Found 22201 images belonging to 2 classes.\n"
          ],
          "name": "stdout"
        }
      ]
    },
    {
      "cell_type": "code",
      "metadata": {
        "id": "xMPwfdQs3EkA",
        "colab_type": "code",
        "outputId": "2fe1b7f8-eb51-4b3a-eeaf-9426e4ad2c3d",
        "colab": {
          "base_uri": "https://localhost:8080/",
          "height": 34
        }
      },
      "source": [
        "testGen = testAug.flow_from_directory(\n",
        "\tTEST_PATH,\n",
        "\tclass_mode=\"categorical\",\n",
        "\ttarget_size=(48, 48),\n",
        "\tcolor_mode=\"rgb\",\n",
        "\tshuffle=False,\n",
        "\tbatch_size=Batch)\n"
      ],
      "execution_count": 0,
      "outputs": [
        {
          "output_type": "stream",
          "text": [
            "Found 55505 images belonging to 2 classes.\n"
          ],
          "name": "stdout"
        }
      ]
    },
    {
      "cell_type": "code",
      "metadata": {
        "id": "PWkZF4zJ343I",
        "colab_type": "code",
        "outputId": "d0e123af-25d1-40bf-af25-61b2b5bdb50e",
        "colab": {
          "base_uri": "https://localhost:8080/",
          "height": 34
        }
      },
      "source": [
        "K.tensorflow_backend._get_available_gpus()"
      ],
      "execution_count": 0,
      "outputs": [
        {
          "output_type": "execute_result",
          "data": {
            "text/plain": [
              "['/job:localhost/replica:0/task:0/device:GPU:0']"
            ]
          },
          "metadata": {
            "tags": []
          },
          "execution_count": 16
        }
      ]
    },
    {
      "cell_type": "code",
      "metadata": {
        "id": "-WpUG0Xp3O3P",
        "colab_type": "code",
        "outputId": "94ba8173-e6d2-4cc4-ce9d-baa3e95e9f76",
        "colab": {
          "base_uri": "https://localhost:8080/",
          "height": 139
        }
      },
      "source": [
        "model = NeuralNet.build(width=48, height=48, depth=3)\n",
        "opt = Adagrad(lr=INIT_LR, decay=INIT_LR / NUM_EPOCHS)\n",
        "model.compile(loss=\"binary_crossentropy\", optimizer=opt,\n",
        "\tmetrics=[\"accuracy\"])"
      ],
      "execution_count": 0,
      "outputs": [
        {
          "output_type": "stream",
          "text": [
            "WARNING:tensorflow:From /usr/local/lib/python3.6/dist-packages/tensorflow/python/framework/op_def_library.py:263: colocate_with (from tensorflow.python.framework.ops) is deprecated and will be removed in a future version.\n",
            "Instructions for updating:\n",
            "Colocations handled automatically by placer.\n",
            "WARNING:tensorflow:From /usr/local/lib/python3.6/dist-packages/keras/backend/tensorflow_backend.py:3445: calling dropout (from tensorflow.python.ops.nn_ops) with keep_prob is deprecated and will be removed in a future version.\n",
            "Instructions for updating:\n",
            "Please use `rate` instead of `keep_prob`. Rate should be set to `rate = 1 - keep_prob`.\n"
          ],
          "name": "stdout"
        }
      ]
    },
    {
      "cell_type": "code",
      "metadata": {
        "id": "gsqK-IED5s0k",
        "colab_type": "code",
        "outputId": "99fec5b6-9dd8-481f-af41-780c0d31c71e",
        "colab": {
          "base_uri": "https://localhost:8080/",
          "height": 734
        }
      },
      "source": [
        "hist = model.fit_generator(\n",
        "\ttrainGen,\n",
        "\tsteps_per_epoch=totalTrain // Batch,\n",
        "\tvalidation_data=valGen,\n",
        "\tvalidation_steps=totalVal // Batch,\n",
        "\tclass_weight=classWeight,\n",
        "\tepochs=NUM_EPOCHS)"
      ],
      "execution_count": 0,
      "outputs": [
        {
          "output_type": "stream",
          "text": [
            "WARNING:tensorflow:From /usr/local/lib/python3.6/dist-packages/tensorflow/python/ops/math_ops.py:3066: to_int32 (from tensorflow.python.ops.math_ops) is deprecated and will be removed in a future version.\n",
            "Instructions for updating:\n",
            "Use tf.cast instead.\n",
            "Epoch 1/20\n",
            "3122/3122 [==============================] - 367s 117ms/step - loss: 0.3690 - acc: 0.8436 - val_loss: 0.5501 - val_acc: 0.7688\n",
            "Epoch 2/20\n",
            "3122/3122 [==============================] - 364s 117ms/step - loss: 0.3383 - acc: 0.8557 - val_loss: 0.4631 - val_acc: 0.8051\n",
            "Epoch 3/20\n",
            "3122/3122 [==============================] - 363s 116ms/step - loss: 0.3334 - acc: 0.8583 - val_loss: 0.4153 - val_acc: 0.8286\n",
            "Epoch 4/20\n",
            "3122/3122 [==============================] - 367s 117ms/step - loss: 0.3315 - acc: 0.8582 - val_loss: 0.4352 - val_acc: 0.8205\n",
            "Epoch 5/20\n",
            "3122/3122 [==============================] - 368s 118ms/step - loss: 0.3301 - acc: 0.8589 - val_loss: 0.4420 - val_acc: 0.8184\n",
            "Epoch 6/20\n",
            "3122/3122 [==============================] - 366s 117ms/step - loss: 0.3284 - acc: 0.8595 - val_loss: 0.4200 - val_acc: 0.8264\n",
            "Epoch 7/20\n",
            "3122/3122 [==============================] - 366s 117ms/step - loss: 0.3291 - acc: 0.8592 - val_loss: 0.4207 - val_acc: 0.8269\n",
            "Epoch 8/20\n",
            "3122/3122 [==============================] - 366s 117ms/step - loss: 0.3284 - acc: 0.8604 - val_loss: 0.4226 - val_acc: 0.8263\n",
            "Epoch 9/20\n",
            "3122/3122 [==============================] - 367s 118ms/step - loss: 0.3266 - acc: 0.8601 - val_loss: 0.4253 - val_acc: 0.8255\n",
            "Epoch 10/20\n",
            "3122/3122 [==============================] - 358s 115ms/step - loss: 0.3264 - acc: 0.8608 - val_loss: 0.4205 - val_acc: 0.8264\n",
            "Epoch 11/20\n",
            "3122/3122 [==============================] - 369s 118ms/step - loss: 0.3260 - acc: 0.8603 - val_loss: 0.4190 - val_acc: 0.8288\n",
            "Epoch 12/20\n",
            "3122/3122 [==============================] - 364s 117ms/step - loss: 0.3266 - acc: 0.8598 - val_loss: 0.4174 - val_acc: 0.8291\n",
            "Epoch 13/20\n",
            "3122/3122 [==============================] - 365s 117ms/step - loss: 0.3259 - acc: 0.8611 - val_loss: 0.4200 - val_acc: 0.8277\n",
            "Epoch 14/20\n",
            "3122/3122 [==============================] - 365s 117ms/step - loss: 0.3261 - acc: 0.8606 - val_loss: 0.4132 - val_acc: 0.8316\n",
            "Epoch 15/20\n",
            "3122/3122 [==============================] - 364s 117ms/step - loss: 0.3255 - acc: 0.8611 - val_loss: 0.4150 - val_acc: 0.8290\n",
            "Epoch 16/20\n",
            "3122/3122 [==============================] - 365s 117ms/step - loss: 0.3253 - acc: 0.8607 - val_loss: 0.4169 - val_acc: 0.8292\n",
            "Epoch 17/20\n",
            "3122/3122 [==============================] - 364s 117ms/step - loss: 0.3259 - acc: 0.8607 - val_loss: 0.4209 - val_acc: 0.8284\n",
            "Epoch 18/20\n",
            "3122/3122 [==============================] - 364s 117ms/step - loss: 0.3247 - acc: 0.8610 - val_loss: 0.4171 - val_acc: 0.8282\n",
            "Epoch 19/20\n",
            "2817/3122 [==========================>...] - ETA: 34s - loss: 0.3260 - acc: 0.8611Buffered data was truncated after reaching the output size limit."
          ],
          "name": "stdout"
        }
      ]
    },
    {
      "cell_type": "markdown",
      "metadata": {
        "id": "o0yemMWruXHQ",
        "colab_type": "text"
      },
      "source": [
        "In the midst of the 19th Epoch, the training terminated due to RAM issue on COLAB."
      ]
    },
    {
      "cell_type": "code",
      "metadata": {
        "id": "4pspkmxZrLVC",
        "colab_type": "code",
        "colab": {}
      },
      "source": [
        "predId = model.predict_generator(testGen,\n",
        "\tsteps=(totalTest // Batch) + 1)\n",
        " "
      ],
      "execution_count": 0,
      "outputs": []
    },
    {
      "cell_type": "code",
      "metadata": {
        "id": "rOB3YC5wrZyJ",
        "colab_type": "code",
        "outputId": "140d666c-73da-44fa-8784-beb408e22bd9",
        "colab": {
          "base_uri": "https://localhost:8080/",
          "height": 170
        }
      },
      "source": [
        "predId = np.argmax(predId, axis=1)\n",
        "print(classification_report(testGen.classes, predId,\n",
        "\ttarget_names=testGen.class_indices.keys()))"
      ],
      "execution_count": 0,
      "outputs": [
        {
          "output_type": "stream",
          "text": [
            "              precision    recall  f1-score   support\n",
            "\n",
            "           0       0.93      0.82      0.87     39677\n",
            "           1       0.66      0.85      0.74     15828\n",
            "\n",
            "    accuracy                           0.83     55505\n",
            "   macro avg       0.79      0.83      0.81     55505\n",
            "weighted avg       0.85      0.83      0.83     55505\n",
            "\n"
          ],
          "name": "stdout"
        }
      ]
    },
    {
      "cell_type": "code",
      "metadata": {
        "id": "twVHI4q9rphn",
        "colab_type": "code",
        "outputId": "f5a967f2-b165-41f5-e206-f91871637ecf",
        "colab": {
          "base_uri": "https://localhost:8080/",
          "height": 102
        }
      },
      "source": [
        "cm = confusion_matrix(testGen.classes, predId)\n",
        "total = sum(sum(cm))\n",
        "acc = (cm[0, 0] + cm[1, 1]) / total\n",
        "sensitivity = cm[0, 0] / (cm[0, 0] + cm[0, 1])\n",
        "specificity = cm[1, 1] / (cm[1, 0] + cm[1, 1])\n",
        " \n",
        "print(cm)\n",
        "print(\"acc: {:.4f}\".format(acc))\n",
        "print(\"sensitivity: {:.4f}\".format(sensitivity))\n",
        "print(\"specificity: {:.4f}\".format(specificity))"
      ],
      "execution_count": 0,
      "outputs": [
        {
          "output_type": "stream",
          "text": [
            "[[32644  7033]\n",
            " [ 2436 13392]]\n",
            "acc: 0.8294\n",
            "sensitivity: 0.8227\n",
            "specificity: 0.8461\n"
          ],
          "name": "stdout"
        }
      ]
    },
    {
      "cell_type": "code",
      "metadata": {
        "id": "zugp8GGmr01p",
        "colab_type": "code",
        "colab": {}
      },
      "source": [
        "import matplotlib.pyplot as plt"
      ],
      "execution_count": 0,
      "outputs": []
    },
    {
      "cell_type": "code",
      "metadata": {
        "id": "FpFxsx1GsPLN",
        "colab_type": "code",
        "outputId": "f2a71c4e-ae23-4eec-c8a3-b20aea318993",
        "colab": {
          "base_uri": "https://localhost:8080/",
          "height": 312
        }
      },
      "source": [
        "plt.plot(np.arange(0, NUM_EPOCHS), hist.history[\"loss\"], label=\"train_loss\")\n",
        "plt.plot(np.arange(0, NUM_EPOCHS), hist.history[\"val_loss\"], label=\"val_loss\")\n",
        "plt.title(\"Loss\")\n",
        "plt.xlabel(\"Epochs\")\n",
        "plt.ylabel(\"Loss\")\n",
        "plt.legend(loc=\"best\")"
      ],
      "execution_count": 0,
      "outputs": [
        {
          "output_type": "execute_result",
          "data": {
            "text/plain": [
              "<matplotlib.legend.Legend at 0x7f31bc7033c8>"
            ]
          },
          "metadata": {
            "tags": []
          },
          "execution_count": 27
        },
        {
          "output_type": "display_data",
          "data": {
            "image/png": "[encoded data removed]",
            "text/plain": [
              "<Figure size 432x288 with 1 Axes>"
            ]
          },
          "metadata": {
            "tags": []
          }
        }
      ]
    },
    {
      "cell_type": "code",
      "metadata": {
        "id": "27grShamsYnX",
        "colab_type": "code",
        "outputId": "61cb67e7-9c35-474d-970b-33e62fc22bdb",
        "colab": {
          "base_uri": "https://localhost:8080/",
          "height": 312
        }
      },
      "source": [
        "plt.plot(np.arange(0, NUM_EPOCHS), hist.history[\"acc\"], label=\"train_acc\")\n",
        "plt.plot(np.arange(0, NUM_EPOCHS), hist.history[\"val_acc\"], label=\"val_acc\")\n",
        "plt.title(\"Accuracy\")\n",
        "plt.xlabel(\"Epochs\")\n",
        "plt.ylabel(\"Accuacy\")\n",
        "plt.legend(loc=\"best\")"
      ],
      "execution_count": 0,
      "outputs": [
        {
          "output_type": "execute_result",
          "data": {
            "text/plain": [
              "<matplotlib.legend.Legend at 0x7f31bc7842e8>"
            ]
          },
          "metadata": {
            "tags": []
          },
          "execution_count": 26
        },
        {
          "output_type": "display_data",
          "data": {
            "image/png": "[encoded data removed]",
            "text/plain": [
              "<Figure size 432x288 with 1 Axes>"
            ]
          },
          "metadata": {
            "tags": []
          }
        }
      ]
    },
    {
      "cell_type": "markdown",
      "metadata": {
        "id": "lMOaxrbptP-C",
        "colab_type": "text"
      },
      "source": [
        "##### FINAL ACCURACY ON TEST DATASET:  ~83%"
      ]
    }
  ]
}